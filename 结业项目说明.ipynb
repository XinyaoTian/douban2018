{
 "cells": [
  {
   "cell_type": "markdown",
   "metadata": {},
   "source": [
    "# 实训营4期结业项目"
   ]
  },
  {
   "cell_type": "markdown",
   "metadata": {},
   "source": [
    "# 一、要求内容\n",
    "* 爬取Douban Movie Top250\n",
    "* 分析短评（总体/分词性->可视化）[统计分析电影的打分分布状况、右侧有用的分布、点评量随时间的变化、点评人常居地]\n",
    "* 分析打分（打分分布/有用的分布/点评量随时间的变化/点评人长居地点）\n",
    "* 构建情感褒贬分析分类器，通过短评数据预测 like(above 4star) or dislike(less than 3star)\n",
    "* 其它思考\n",
    "\n",
    "# 二、项目要求\n",
    "1. deadline 2018.2.28\n",
    "2. 文件夹形式组织任务\n",
    "3. 建立readme讲解思路\n",
    "4. 项目文件注释"
   ]
  },
  {
   "cell_type": "markdown",
   "metadata": {},
   "source": [
    "# 三、 项目理解\n",
    "1. 做Top250，评分偏高，后面的预测器用途不大，不能做为一般性推断。为了项目准确性，准备爬取Newest 300\n",
    "2. 爬取内容应包含：短评，评价人，评分，评分时间，评分人居住地(先到网站去确认看能否爬)\n",
    "3. 文件夹准备分为：step1_scrapy，step_2_dataclean， step3_buildmodel "
   ]
  },
  {
   "cell_type": "markdown",
   "metadata": {},
   "source": [
    "#  四、 开始实施\n",
    "### 1. 数据获取\n",
    "1. get_data.ipynb。原本准备从这个文件爬取所有的电影和评论，电影爬取成功了，但是评论智能爬大概几十部就被封号\n",
    "2. get_mobile_content.ipynb。手机通道。读取get_data爬取的电影的的信息。从电影中获取评论链接，然后将每部电影所有的评论抓下来，一个电影写一个文件\n",
    "3. read_all_json.ipynb。读取所有的电影文件，合并成一个pd，保存为json文件备用"
   ]
  },
  {
   "cell_type": "markdown",
   "metadata": {},
   "source": [
    "### 2. 可视化分析\n",
    "1. 分析movie的相关特征\n",
    "2. 分析评论的相关特征\n",
    "3. 做词云"
   ]
  },
  {
   "cell_type": "markdown",
   "metadata": {},
   "source": [
    "### 3. 情感分析器的构建\n",
    "1. 一开始准备进行3分类的分析，评论<=2star：dislike，=3star: normal, >=4star: like。后来准确率太低，降低为2分问题<=3star:dislike，>=4star:like\n",
    "2. tf-idf，wordsBag, LDA玩一圈\n",
    "3. 使用LDA和情感词库，对评论进行分析，发现不是太靠谱\n",
    "4. 使用word2vec+svm模型进行建模，3分问题时候结果很差，2分问题的时候，模型没有来得及跑完\n",
    "5. 最后还是大杀器xgb救了一命，预测效果不错"
   ]
  },
  {
   "cell_type": "markdown",
   "metadata": {},
   "source": [
    "## 总结\n",
    "* 获取数据的时候尽量走手机通道，尽量找json,xml格式的数据文件。如果实在不行再退求其次。\n",
    "* 爬取数据时最好爬一段写一段到硬盘上，要不没有爬完程序出错就可以了\n",
    "* 可视化的时候感觉做的还不够深入，应该可以有改进的空间。\n",
    "* 词云很好玩儿，但是时拿网上代码用的，回头有时间要进行理解\n",
    "* 文字处理其实也很有规律：切词，词袋，转向量，跑模型，结果验收参数调整。但是这个里面有很多细节需要注意：比如什么时候做停用词，转向量很面的很多参数，选用什么模型，模型参数都需要深入学习"
   ]
  }
 ],
 "metadata": {
  "kernelspec": {
   "display_name": "Python 3",
   "language": "python",
   "name": "python3"
  },
  "language_info": {
   "codemirror_mode": {
    "name": "ipython",
    "version": 3
   },
   "file_extension": ".py",
   "mimetype": "text/x-python",
   "name": "python",
   "nbconvert_exporter": "python",
   "pygments_lexer": "ipython3",
   "version": "3.6.3"
  }
 },
 "nbformat": 4,
 "nbformat_minor": 2
}
